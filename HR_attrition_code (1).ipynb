{
  "nbformat": 4,
  "nbformat_minor": 0,
  "metadata": {
    "colab": {
      "name": "HR_attrition_code.ipynb",
      "provenance": [],
      "collapsed_sections": []
    },
    "kernelspec": {
      "name": "python3",
      "display_name": "Python 3"
    },
    "language_info": {
      "name": "python"
    }
  },
  "cells": [
    {
      "cell_type": "markdown",
      "source": [
        "#Name - Akanksha Sanjay Phatangare\n"
      ],
      "metadata": {
        "id": "oTvHh9icfKms"
      }
    },
    {
      "cell_type": "markdown",
      "source": [
        "# **Project title and description**"
      ],
      "metadata": {
        "id": "46LxjNvoVfpW"
      }
    },
    {
      "cell_type": "markdown",
      "source": [
        "Assignment- HR Attrition Data\n",
        "Description-\n",
        "\n",
        "In this assignment , we need to predict whether a give employee will leave the organization or not. Your target column is Attrition\n",
        "\n",
        "We will create a model with the following steps:\n",
        "\n",
        "~ Import the relevant package.\n",
        "\n",
        "~ Download and explore the dataset.\n",
        "\n",
        "~ Perform EDA, Apply dataset for preprocessing.\n",
        "\n",
        " ~ Predict the target columns."
      ],
      "metadata": {
        "id": "snauvtfzfQbG"
      }
    },
    {
      "cell_type": "code",
      "execution_count": null,
      "metadata": {
        "id": "LvFAA00A61tJ"
      },
      "outputs": [],
      "source": [
        "# HR attrition prediction \n",
        "# will employee leave the company\n"
      ]
    },
    {
      "cell_type": "markdown",
      "source": [
        "# **Data Analysis and Visuallization**"
      ],
      "metadata": {
        "id": "s2BmrtfAGCGA"
      }
    },
    {
      "cell_type": "markdown",
      "source": [
        "## Importing libraries and all dependancies"
      ],
      "metadata": {
        "id": "UFx5R8cjVqfG"
      }
    },
    {
      "cell_type": "code",
      "source": [
        "import numpy as np\n",
        "import pandas as pd\n",
        "import matplotlib.pyplot as plt\n",
        "import seaborn as sns #visualization\n"
      ],
      "metadata": {
        "id": "g0Qtk4DF6_so"
      },
      "execution_count": null,
      "outputs": []
    },
    {
      "cell_type": "code",
      "source": [
        "df = pd.read_csv('/DATA SCIENCE WITH ML AND PY/ML content/assignment/HR_Employee_Attrition -1.csv')"
      ],
      "metadata": {
        "id": "VGFcNmbn_BwT",
        "colab": {
          "base_uri": "https://localhost:8080/",
          "height": 310
        },
        "outputId": "bd38ad63-6fa3-4159-e771-554409ed747f"
      },
      "execution_count": 24,
      "outputs": [
        {
          "output_type": "error",
          "ename": "FileNotFoundError",
          "evalue": "ignored",
          "traceback": [
            "\u001b[0;31m---------------------------------------------------------------------------\u001b[0m",
            "\u001b[0;31mFileNotFoundError\u001b[0m                         Traceback (most recent call last)",
            "\u001b[0;32m<ipython-input-24-5ae89b4b59ac>\u001b[0m in \u001b[0;36m<module>\u001b[0;34m()\u001b[0m\n\u001b[0;32m----> 1\u001b[0;31m \u001b[0mdf\u001b[0m \u001b[0;34m=\u001b[0m \u001b[0mpd\u001b[0m\u001b[0;34m.\u001b[0m\u001b[0mread_csv\u001b[0m\u001b[0;34m(\u001b[0m\u001b[0;34m'/DATA SCIENCE WITH ML AND PY/ML content/assignment/HR_Employee_Attrition -1.csv'\u001b[0m\u001b[0;34m)\u001b[0m\u001b[0;34m\u001b[0m\u001b[0;34m\u001b[0m\u001b[0m\n\u001b[0m",
            "\u001b[0;32m/usr/local/lib/python3.7/dist-packages/pandas/util/_decorators.py\u001b[0m in \u001b[0;36mwrapper\u001b[0;34m(*args, **kwargs)\u001b[0m\n\u001b[1;32m    309\u001b[0m                     \u001b[0mstacklevel\u001b[0m\u001b[0;34m=\u001b[0m\u001b[0mstacklevel\u001b[0m\u001b[0;34m,\u001b[0m\u001b[0;34m\u001b[0m\u001b[0;34m\u001b[0m\u001b[0m\n\u001b[1;32m    310\u001b[0m                 )\n\u001b[0;32m--> 311\u001b[0;31m             \u001b[0;32mreturn\u001b[0m \u001b[0mfunc\u001b[0m\u001b[0;34m(\u001b[0m\u001b[0;34m*\u001b[0m\u001b[0margs\u001b[0m\u001b[0;34m,\u001b[0m \u001b[0;34m**\u001b[0m\u001b[0mkwargs\u001b[0m\u001b[0;34m)\u001b[0m\u001b[0;34m\u001b[0m\u001b[0;34m\u001b[0m\u001b[0m\n\u001b[0m\u001b[1;32m    312\u001b[0m \u001b[0;34m\u001b[0m\u001b[0m\n\u001b[1;32m    313\u001b[0m         \u001b[0;32mreturn\u001b[0m \u001b[0mwrapper\u001b[0m\u001b[0;34m\u001b[0m\u001b[0;34m\u001b[0m\u001b[0m\n",
            "\u001b[0;32m/usr/local/lib/python3.7/dist-packages/pandas/io/parsers/readers.py\u001b[0m in \u001b[0;36mread_csv\u001b[0;34m(filepath_or_buffer, sep, delimiter, header, names, index_col, usecols, squeeze, prefix, mangle_dupe_cols, dtype, engine, converters, true_values, false_values, skipinitialspace, skiprows, skipfooter, nrows, na_values, keep_default_na, na_filter, verbose, skip_blank_lines, parse_dates, infer_datetime_format, keep_date_col, date_parser, dayfirst, cache_dates, iterator, chunksize, compression, thousands, decimal, lineterminator, quotechar, quoting, doublequote, escapechar, comment, encoding, encoding_errors, dialect, error_bad_lines, warn_bad_lines, on_bad_lines, delim_whitespace, low_memory, memory_map, float_precision, storage_options)\u001b[0m\n\u001b[1;32m    584\u001b[0m     \u001b[0mkwds\u001b[0m\u001b[0;34m.\u001b[0m\u001b[0mupdate\u001b[0m\u001b[0;34m(\u001b[0m\u001b[0mkwds_defaults\u001b[0m\u001b[0;34m)\u001b[0m\u001b[0;34m\u001b[0m\u001b[0;34m\u001b[0m\u001b[0m\n\u001b[1;32m    585\u001b[0m \u001b[0;34m\u001b[0m\u001b[0m\n\u001b[0;32m--> 586\u001b[0;31m     \u001b[0;32mreturn\u001b[0m \u001b[0m_read\u001b[0m\u001b[0;34m(\u001b[0m\u001b[0mfilepath_or_buffer\u001b[0m\u001b[0;34m,\u001b[0m \u001b[0mkwds\u001b[0m\u001b[0;34m)\u001b[0m\u001b[0;34m\u001b[0m\u001b[0;34m\u001b[0m\u001b[0m\n\u001b[0m\u001b[1;32m    587\u001b[0m \u001b[0;34m\u001b[0m\u001b[0m\n\u001b[1;32m    588\u001b[0m \u001b[0;34m\u001b[0m\u001b[0m\n",
            "\u001b[0;32m/usr/local/lib/python3.7/dist-packages/pandas/io/parsers/readers.py\u001b[0m in \u001b[0;36m_read\u001b[0;34m(filepath_or_buffer, kwds)\u001b[0m\n\u001b[1;32m    480\u001b[0m \u001b[0;34m\u001b[0m\u001b[0m\n\u001b[1;32m    481\u001b[0m     \u001b[0;31m# Create the parser.\u001b[0m\u001b[0;34m\u001b[0m\u001b[0;34m\u001b[0m\u001b[0;34m\u001b[0m\u001b[0m\n\u001b[0;32m--> 482\u001b[0;31m     \u001b[0mparser\u001b[0m \u001b[0;34m=\u001b[0m \u001b[0mTextFileReader\u001b[0m\u001b[0;34m(\u001b[0m\u001b[0mfilepath_or_buffer\u001b[0m\u001b[0;34m,\u001b[0m \u001b[0;34m**\u001b[0m\u001b[0mkwds\u001b[0m\u001b[0;34m)\u001b[0m\u001b[0;34m\u001b[0m\u001b[0;34m\u001b[0m\u001b[0m\n\u001b[0m\u001b[1;32m    483\u001b[0m \u001b[0;34m\u001b[0m\u001b[0m\n\u001b[1;32m    484\u001b[0m     \u001b[0;32mif\u001b[0m \u001b[0mchunksize\u001b[0m \u001b[0;32mor\u001b[0m \u001b[0miterator\u001b[0m\u001b[0;34m:\u001b[0m\u001b[0;34m\u001b[0m\u001b[0;34m\u001b[0m\u001b[0m\n",
            "\u001b[0;32m/usr/local/lib/python3.7/dist-packages/pandas/io/parsers/readers.py\u001b[0m in \u001b[0;36m__init__\u001b[0;34m(self, f, engine, **kwds)\u001b[0m\n\u001b[1;32m    809\u001b[0m             \u001b[0mself\u001b[0m\u001b[0;34m.\u001b[0m\u001b[0moptions\u001b[0m\u001b[0;34m[\u001b[0m\u001b[0;34m\"has_index_names\"\u001b[0m\u001b[0;34m]\u001b[0m \u001b[0;34m=\u001b[0m \u001b[0mkwds\u001b[0m\u001b[0;34m[\u001b[0m\u001b[0;34m\"has_index_names\"\u001b[0m\u001b[0;34m]\u001b[0m\u001b[0;34m\u001b[0m\u001b[0;34m\u001b[0m\u001b[0m\n\u001b[1;32m    810\u001b[0m \u001b[0;34m\u001b[0m\u001b[0m\n\u001b[0;32m--> 811\u001b[0;31m         \u001b[0mself\u001b[0m\u001b[0;34m.\u001b[0m\u001b[0m_engine\u001b[0m \u001b[0;34m=\u001b[0m \u001b[0mself\u001b[0m\u001b[0;34m.\u001b[0m\u001b[0m_make_engine\u001b[0m\u001b[0;34m(\u001b[0m\u001b[0mself\u001b[0m\u001b[0;34m.\u001b[0m\u001b[0mengine\u001b[0m\u001b[0;34m)\u001b[0m\u001b[0;34m\u001b[0m\u001b[0;34m\u001b[0m\u001b[0m\n\u001b[0m\u001b[1;32m    812\u001b[0m \u001b[0;34m\u001b[0m\u001b[0m\n\u001b[1;32m    813\u001b[0m     \u001b[0;32mdef\u001b[0m \u001b[0mclose\u001b[0m\u001b[0;34m(\u001b[0m\u001b[0mself\u001b[0m\u001b[0;34m)\u001b[0m\u001b[0;34m:\u001b[0m\u001b[0;34m\u001b[0m\u001b[0;34m\u001b[0m\u001b[0m\n",
            "\u001b[0;32m/usr/local/lib/python3.7/dist-packages/pandas/io/parsers/readers.py\u001b[0m in \u001b[0;36m_make_engine\u001b[0;34m(self, engine)\u001b[0m\n\u001b[1;32m   1038\u001b[0m             )\n\u001b[1;32m   1039\u001b[0m         \u001b[0;31m# error: Too many arguments for \"ParserBase\"\u001b[0m\u001b[0;34m\u001b[0m\u001b[0;34m\u001b[0m\u001b[0;34m\u001b[0m\u001b[0m\n\u001b[0;32m-> 1040\u001b[0;31m         \u001b[0;32mreturn\u001b[0m \u001b[0mmapping\u001b[0m\u001b[0;34m[\u001b[0m\u001b[0mengine\u001b[0m\u001b[0;34m]\u001b[0m\u001b[0;34m(\u001b[0m\u001b[0mself\u001b[0m\u001b[0;34m.\u001b[0m\u001b[0mf\u001b[0m\u001b[0;34m,\u001b[0m \u001b[0;34m**\u001b[0m\u001b[0mself\u001b[0m\u001b[0;34m.\u001b[0m\u001b[0moptions\u001b[0m\u001b[0;34m)\u001b[0m  \u001b[0;31m# type: ignore[call-arg]\u001b[0m\u001b[0;34m\u001b[0m\u001b[0;34m\u001b[0m\u001b[0m\n\u001b[0m\u001b[1;32m   1041\u001b[0m \u001b[0;34m\u001b[0m\u001b[0m\n\u001b[1;32m   1042\u001b[0m     \u001b[0;32mdef\u001b[0m \u001b[0m_failover_to_python\u001b[0m\u001b[0;34m(\u001b[0m\u001b[0mself\u001b[0m\u001b[0;34m)\u001b[0m\u001b[0;34m:\u001b[0m\u001b[0;34m\u001b[0m\u001b[0;34m\u001b[0m\u001b[0m\n",
            "\u001b[0;32m/usr/local/lib/python3.7/dist-packages/pandas/io/parsers/c_parser_wrapper.py\u001b[0m in \u001b[0;36m__init__\u001b[0;34m(self, src, **kwds)\u001b[0m\n\u001b[1;32m     49\u001b[0m \u001b[0;34m\u001b[0m\u001b[0m\n\u001b[1;32m     50\u001b[0m         \u001b[0;31m# open handles\u001b[0m\u001b[0;34m\u001b[0m\u001b[0;34m\u001b[0m\u001b[0;34m\u001b[0m\u001b[0m\n\u001b[0;32m---> 51\u001b[0;31m         \u001b[0mself\u001b[0m\u001b[0;34m.\u001b[0m\u001b[0m_open_handles\u001b[0m\u001b[0;34m(\u001b[0m\u001b[0msrc\u001b[0m\u001b[0;34m,\u001b[0m \u001b[0mkwds\u001b[0m\u001b[0;34m)\u001b[0m\u001b[0;34m\u001b[0m\u001b[0;34m\u001b[0m\u001b[0m\n\u001b[0m\u001b[1;32m     52\u001b[0m         \u001b[0;32massert\u001b[0m \u001b[0mself\u001b[0m\u001b[0;34m.\u001b[0m\u001b[0mhandles\u001b[0m \u001b[0;32mis\u001b[0m \u001b[0;32mnot\u001b[0m \u001b[0;32mNone\u001b[0m\u001b[0;34m\u001b[0m\u001b[0;34m\u001b[0m\u001b[0m\n\u001b[1;32m     53\u001b[0m \u001b[0;34m\u001b[0m\u001b[0m\n",
            "\u001b[0;32m/usr/local/lib/python3.7/dist-packages/pandas/io/parsers/base_parser.py\u001b[0m in \u001b[0;36m_open_handles\u001b[0;34m(self, src, kwds)\u001b[0m\n\u001b[1;32m    227\u001b[0m             \u001b[0mmemory_map\u001b[0m\u001b[0;34m=\u001b[0m\u001b[0mkwds\u001b[0m\u001b[0;34m.\u001b[0m\u001b[0mget\u001b[0m\u001b[0;34m(\u001b[0m\u001b[0;34m\"memory_map\"\u001b[0m\u001b[0;34m,\u001b[0m \u001b[0;32mFalse\u001b[0m\u001b[0;34m)\u001b[0m\u001b[0;34m,\u001b[0m\u001b[0;34m\u001b[0m\u001b[0;34m\u001b[0m\u001b[0m\n\u001b[1;32m    228\u001b[0m             \u001b[0mstorage_options\u001b[0m\u001b[0;34m=\u001b[0m\u001b[0mkwds\u001b[0m\u001b[0;34m.\u001b[0m\u001b[0mget\u001b[0m\u001b[0;34m(\u001b[0m\u001b[0;34m\"storage_options\"\u001b[0m\u001b[0;34m,\u001b[0m \u001b[0;32mNone\u001b[0m\u001b[0;34m)\u001b[0m\u001b[0;34m,\u001b[0m\u001b[0;34m\u001b[0m\u001b[0;34m\u001b[0m\u001b[0m\n\u001b[0;32m--> 229\u001b[0;31m             \u001b[0merrors\u001b[0m\u001b[0;34m=\u001b[0m\u001b[0mkwds\u001b[0m\u001b[0;34m.\u001b[0m\u001b[0mget\u001b[0m\u001b[0;34m(\u001b[0m\u001b[0;34m\"encoding_errors\"\u001b[0m\u001b[0;34m,\u001b[0m \u001b[0;34m\"strict\"\u001b[0m\u001b[0;34m)\u001b[0m\u001b[0;34m,\u001b[0m\u001b[0;34m\u001b[0m\u001b[0;34m\u001b[0m\u001b[0m\n\u001b[0m\u001b[1;32m    230\u001b[0m         )\n\u001b[1;32m    231\u001b[0m \u001b[0;34m\u001b[0m\u001b[0m\n",
            "\u001b[0;32m/usr/local/lib/python3.7/dist-packages/pandas/io/common.py\u001b[0m in \u001b[0;36mget_handle\u001b[0;34m(path_or_buf, mode, encoding, compression, memory_map, is_text, errors, storage_options)\u001b[0m\n\u001b[1;32m    705\u001b[0m                 \u001b[0mencoding\u001b[0m\u001b[0;34m=\u001b[0m\u001b[0mioargs\u001b[0m\u001b[0;34m.\u001b[0m\u001b[0mencoding\u001b[0m\u001b[0;34m,\u001b[0m\u001b[0;34m\u001b[0m\u001b[0;34m\u001b[0m\u001b[0m\n\u001b[1;32m    706\u001b[0m                 \u001b[0merrors\u001b[0m\u001b[0;34m=\u001b[0m\u001b[0merrors\u001b[0m\u001b[0;34m,\u001b[0m\u001b[0;34m\u001b[0m\u001b[0;34m\u001b[0m\u001b[0m\n\u001b[0;32m--> 707\u001b[0;31m                 \u001b[0mnewline\u001b[0m\u001b[0;34m=\u001b[0m\u001b[0;34m\"\"\u001b[0m\u001b[0;34m,\u001b[0m\u001b[0;34m\u001b[0m\u001b[0;34m\u001b[0m\u001b[0m\n\u001b[0m\u001b[1;32m    708\u001b[0m             )\n\u001b[1;32m    709\u001b[0m         \u001b[0;32melse\u001b[0m\u001b[0;34m:\u001b[0m\u001b[0;34m\u001b[0m\u001b[0;34m\u001b[0m\u001b[0m\n",
            "\u001b[0;31mFileNotFoundError\u001b[0m: [Errno 2] No such file or directory: '/DATA SCIENCE WITH ML AND PY/ML content/assignment/HR_Employee_Attrition -1.csv'"
          ]
        }
      ]
    },
    {
      "cell_type": "code",
      "source": [
        "from google.colab import drive\n",
        "drive.mount('/content/drive')"
      ],
      "metadata": {
        "id": "QWDVN5HZAHtr",
        "colab": {
          "base_uri": "https://localhost:8080/"
        },
        "outputId": "87a364db-72cd-4c9d-ac81-deda091f6f78"
      },
      "execution_count": null,
      "outputs": [
        {
          "output_type": "stream",
          "name": "stdout",
          "text": [
            "Drive already mounted at /content/drive; to attempt to forcibly remount, call drive.mount(\"/content/drive\", force_remount=True).\n"
          ]
        }
      ]
    },
    {
      "cell_type": "code",
      "source": [
        "pd.set_option('max_columns', None)"
      ],
      "metadata": {
        "id": "mNTY-TdONeWo"
      },
      "execution_count": null,
      "outputs": []
    },
    {
      "cell_type": "code",
      "source": [
        "df"
      ],
      "metadata": {
        "id": "v0BBCTv8_MCg"
      },
      "execution_count": null,
      "outputs": []
    },
    {
      "cell_type": "markdown",
      "source": [
        "## **Exploratory Data Analysis** (EDA)"
      ],
      "metadata": {
        "id": "GxuryH3mV0U0"
      }
    },
    {
      "cell_type": "code",
      "source": [
        "df.shape"
      ],
      "metadata": {
        "id": "kFdv9NCt_fwG"
      },
      "execution_count": null,
      "outputs": []
    },
    {
      "cell_type": "code",
      "source": [
        "df.info()"
      ],
      "metadata": {
        "id": "EqVFpRXg_15o"
      },
      "execution_count": null,
      "outputs": []
    },
    {
      "cell_type": "code",
      "source": [
        "numeric_cols = df.select_dtypes(include=['int64']).columns.tolist()\n",
        "categorical_cols = df.select_dtypes(include=['object']).columns.tolist()"
      ],
      "metadata": {
        "id": "BNTeuVj6BEmw"
      },
      "execution_count": null,
      "outputs": []
    },
    {
      "cell_type": "code",
      "source": [
        "df[numeric_cols].head()"
      ],
      "metadata": {
        "id": "A6BWW-6VBLzm"
      },
      "execution_count": null,
      "outputs": []
    },
    {
      "cell_type": "code",
      "source": [
        "df[categorical_cols].head()"
      ],
      "metadata": {
        "id": "8AkG4X6DBW7Q"
      },
      "execution_count": null,
      "outputs": []
    },
    {
      "cell_type": "code",
      "source": [
        "df[numeric_cols].describe()"
      ],
      "metadata": {
        "id": "eG8ccVwjBjWO"
      },
      "execution_count": null,
      "outputs": []
    },
    {
      "cell_type": "code",
      "source": [
        "for column in df.columns:\n",
        "    print(f\"{column} - Unique values {df[column].nunique()}\")\n",
        "    print(\"******************************************\")"
      ],
      "metadata": {
        "id": "OS0BVEj-IJUA"
      },
      "execution_count": null,
      "outputs": []
    },
    {
      "cell_type": "markdown",
      "source": [
        "EmployeeCount', 'Over18', 'StandardHours' have only one unique values and EmployeeNumber have all uique values. So, this features are not useful for our analysis"
      ],
      "metadata": {
        "id": "_Cew3zSCTSK2"
      }
    },
    {
      "cell_type": "code",
      "source": [
        "df.drop(['EmployeeCount', 'EmployeeNumber', 'Over18', 'StandardHours'], axis=\"columns\", inplace=True)"
      ],
      "metadata": {
        "id": "RGlGyveOTFzi"
      },
      "execution_count": null,
      "outputs": []
    },
    {
      "cell_type": "code",
      "source": [
        "object_col = []\n",
        "for column in df.columns:\n",
        "    if df[column].dtype == object and len(df[column].unique()) <= 30:\n",
        "        object_col.append(column)\n",
        "        print(f\"{column} : {df[column].unique()}\")\n",
        "        print(df[column].value_counts())\n",
        "        print(\"====================================\")\n"
      ],
      "metadata": {
        "id": "x_w-5NOoT089"
      },
      "execution_count": null,
      "outputs": []
    },
    {
      "cell_type": "code",
      "source": [
        "disc_col = []\n",
        "for column in df.columns:\n",
        "    if df[column].dtypes != object and df[column].nunique() < 30:\n",
        "        print(f\"{column} : {df[column].unique()}\")\n",
        "        disc_col.append(column)\n",
        "        print(\"====================================\")\n"
      ],
      "metadata": {
        "id": "k1DqEhrLUKSa"
      },
      "execution_count": null,
      "outputs": []
    },
    {
      "cell_type": "markdown",
      "source": [
        "## Data Visuallization"
      ],
      "metadata": {
        "id": "utNoIq7mV_ro"
      }
    },
    {
      "cell_type": "code",
      "source": [
        "df['Attrition'].value_counts()"
      ],
      "metadata": {
        "id": "F6p7IGJfDe4t"
      },
      "execution_count": null,
      "outputs": []
    },
    {
      "cell_type": "markdown",
      "source": [
        "## **Percentage Of Attrition**"
      ],
      "metadata": {
        "id": "-yoX3WOgGWBg"
      }
    },
    {
      "cell_type": "code",
      "source": [
        "plt.pie(df['Attrition'].value_counts(), labels =['NO','YES'], \n",
        "        radius = 1.5, explode = [0,0.15], shadow= True ,autopct = '%.2f%%')\n",
        "plt.title('Percentage Of Attrition')\n",
        "plt.show()\n"
      ],
      "metadata": {
        "id": "ymoEDPVQDue1"
      },
      "execution_count": null,
      "outputs": []
    },
    {
      "cell_type": "markdown",
      "source": [
        "## **Univariate Analysis**"
      ],
      "metadata": {
        "id": "-9ECv2NyGls0"
      }
    },
    {
      "cell_type": "code",
      "source": [
        "df['Attrition'].value_counts().plot(kind='bar')"
      ],
      "metadata": {
        "id": "1BWcCa0iaVB6"
      },
      "execution_count": null,
      "outputs": []
    },
    {
      "cell_type": "code",
      "source": [
        "categorical_cols = df.select_dtypes(include=['object']).columns.tolist()"
      ],
      "metadata": {
        "id": "eUpY5nsp8NDz"
      },
      "execution_count": null,
      "outputs": []
    },
    {
      "cell_type": "code",
      "source": [
        "fig, ax = plt.subplots(3,3, figsize = (20,10))\n",
        "\n",
        "ax = np.ravel(ax)\n",
        "for i in range(len(categorical_cols)):\n",
        "    sns.countplot(data = df, x = categorical_cols[i], ax = ax[i], palette=\"rocket\", order = df[categorical_cols[i]].value_counts().index)\n",
        "    ax[i].set_xticklabels(labels = df[categorical_cols[i]].unique(), rotation=45, ha='right')\n",
        "ax = np.reshape(ax, (3, 3))\n",
        "plt.tight_layout()"
      ],
      "metadata": {
        "id": "ZBqJnyAK7Nvj"
      },
      "execution_count": null,
      "outputs": []
    },
    {
      "cell_type": "markdown",
      "source": [
        "## **Finding Correlations**"
      ],
      "metadata": {
        "id": "bQvnaRubAm9l"
      }
    },
    {
      "cell_type": "code",
      "source": [
        "cmap = sns.color_palette(\"YlOrBr\", as_cmap=True)\n",
        "\n",
        "f, ax = plt.subplots(figsize=(10, 8))\n",
        "corr = df.corr()\n",
        "sns.heatmap(corr, mask=np.zeros_like(corr, dtype=np.bool), cmap=cmap,\n",
        "            square=True, ax=ax)"
      ],
      "metadata": {
        "id": "Ln2Q3XI7_grO"
      },
      "execution_count": null,
      "outputs": []
    },
    {
      "cell_type": "markdown",
      "source": [
        "we can some features are related like - \n",
        "\n",
        "\n",
        "> Age and Total Working Years / Monthly Income / Job Level / Num of companies Worked\n",
        "\n",
        "> Job Level  and Toatal working years\n",
        "\n",
        "> Job Level and Years at company \n",
        "\n",
        "> Income and Working years\n",
        "\n",
        "> Job Level and Monthly income\n",
        "\n",
        "\n",
        "\n"
      ],
      "metadata": {
        "id": "0tSBBIh8CSAa"
      }
    },
    {
      "cell_type": "markdown",
      "source": [
        "For checking how attrition changes on all features we have to do some more analysis by grouping with different set of features"
      ],
      "metadata": {
        "id": "OjBLqODjD7Tw"
      }
    },
    {
      "cell_type": "code",
      "source": [
        ""
      ],
      "metadata": {
        "id": "Xe0uWsx5D0za"
      },
      "execution_count": null,
      "outputs": []
    },
    {
      "cell_type": "markdown",
      "source": [
        "## **Grouping with different features**"
      ],
      "metadata": {
        "id": "kFUTOCqwnJoh"
      }
    },
    {
      "cell_type": "code",
      "source": [
        "df"
      ],
      "metadata": {
        "id": "fcf1zKh-nJG8"
      },
      "execution_count": null,
      "outputs": []
    },
    {
      "cell_type": "code",
      "source": [
        "df.columns"
      ],
      "metadata": {
        "id": "9W2KR9IPpli7"
      },
      "execution_count": null,
      "outputs": []
    },
    {
      "cell_type": "code",
      "source": [
        "df['Age'].median()"
      ],
      "metadata": {
        "id": "at_3ksrEqlsl"
      },
      "execution_count": null,
      "outputs": []
    },
    {
      "cell_type": "code",
      "source": [
        "df.describe()"
      ],
      "metadata": {
        "id": "-Y20Fy-zrJGI"
      },
      "execution_count": null,
      "outputs": []
    },
    {
      "cell_type": "code",
      "source": [
        "df['Gender'].value_counts()"
      ],
      "metadata": {
        "id": "v7UD7m_MrgKQ"
      },
      "execution_count": null,
      "outputs": []
    },
    {
      "cell_type": "code",
      "source": [
        "df['Gender'].value_counts(normalize = True)"
      ],
      "metadata": {
        "id": "wqvh21dArxP9"
      },
      "execution_count": null,
      "outputs": []
    },
    {
      "cell_type": "code",
      "source": [
        "# Education\n",
        "# 1 'Below College'\n",
        "# 2 'College'\n",
        "# 3 'Bachelor'\n",
        "# 4 'Master'\n",
        "# 5 'Doctor'\n",
        "\n",
        "# EnvironmentSatisfaction\n",
        "# 1 'Low'\n",
        "# 2 'Medium'\n",
        "# 3 'High'\n",
        "# 4 'Very High'\n",
        "\n",
        "# JobInvolvement\n",
        "# 1 'Low'\n",
        "# 2 'Medium'\n",
        "# 3 'High'\n",
        "# 4 'Very High'\n",
        "\n",
        "# JobSatisfaction\n",
        "# 1 'Low'\n",
        "# 2 'Medium'\n",
        "# 3 'High'\n",
        "# 4 'Very High'\n",
        "\n",
        "# PerformanceRating\n",
        "# 1 'Low'\n",
        "# 2 'Good'\n",
        "# 3 'Excellent'\n",
        "# 4 'Outstanding'\n",
        "\n",
        "# RelationshipSatisfaction\n",
        "# 1 'Low'\n",
        "# 2 'Medium'\n",
        "# 3 'High'\n",
        "# 4 'Very High'\n",
        "\n",
        "# WorkLifeBalance\n",
        "# 1 'Bad'\n",
        "# 2 'Good'\n",
        "# 3 'Better'\n",
        "# 4 'Best'"
      ],
      "metadata": {
        "id": "xegF4yMgs7LT"
      },
      "execution_count": null,
      "outputs": []
    },
    {
      "cell_type": "markdown",
      "source": [
        "### Analyzing all score columns for satisfaction"
      ],
      "metadata": {
        "id": "uTzF9ZaRuXqA"
      }
    },
    {
      "cell_type": "code",
      "source": [
        "lis = ['Education', 'EnvironmentSatisfaction', 'JobInvolvement', 'JobSatisfaction', \n",
        "       'PerformanceRating', 'RelationshipSatisfaction', 'WorkLifeBalance']"
      ],
      "metadata": {
        "id": "Jsx1SebMtI4z"
      },
      "execution_count": null,
      "outputs": []
    },
    {
      "cell_type": "code",
      "source": [
        "for l in lis:\n",
        "  print(l.upper())\n",
        "  print(df[l].value_counts())\n",
        "  print('---------------------------------------------')"
      ],
      "metadata": {
        "id": "SzpDgP_Vth9N"
      },
      "execution_count": null,
      "outputs": []
    },
    {
      "cell_type": "markdown",
      "source": [
        "### **Checking the percentage of attrition w.r.t Education level**"
      ],
      "metadata": {
        "id": "Y2BDRqokw15C"
      }
    },
    {
      "cell_type": "code",
      "source": [
        "ed_grp = df.groupby(['Education'])"
      ],
      "metadata": {
        "id": "KoWmy457uI2S"
      },
      "execution_count": null,
      "outputs": []
    },
    {
      "cell_type": "code",
      "source": [
        "# Education\n",
        "# 1 'Below College'\n",
        "# 2 'College'\n",
        "# 3 'Bachelor'\n",
        "# 4 'Master'\n",
        "# 5 'Doctor'\n",
        "\n",
        "ed_grp['Attrition'].value_counts()"
      ],
      "metadata": {
        "id": "khCzX8iFu6XC"
      },
      "execution_count": null,
      "outputs": []
    },
    {
      "cell_type": "code",
      "source": [
        "ed_grp['Attrition'].value_counts(normalize = True)"
      ],
      "metadata": {
        "id": "Hhk3eS6swkjX"
      },
      "execution_count": null,
      "outputs": []
    },
    {
      "cell_type": "code",
      "source": [
        "ed_grp['Attrition'].value_counts(normalize = True).plot(kind='bar')"
      ],
      "metadata": {
        "id": "-uhy7uD7wxK0"
      },
      "execution_count": null,
      "outputs": []
    },
    {
      "cell_type": "markdown",
      "source": [
        "### **Checking the percentage of attrition w.r.t EnvironmentSatisfaction level**"
      ],
      "metadata": {
        "id": "iSkH6IPZxIjE"
      }
    },
    {
      "cell_type": "code",
      "source": [
        "# EnvironmentSatisfaction\n",
        "# 1 'Low'\n",
        "# 2 'Medium'\n",
        "# 3 'High'\n",
        "# 4 'Very High'\n",
        "\n",
        "env_sat_grp = df.groupby(['EnvironmentSatisfaction'])"
      ],
      "metadata": {
        "id": "BckwzST_xEQm"
      },
      "execution_count": null,
      "outputs": []
    },
    {
      "cell_type": "code",
      "source": [
        "env_sat_grp['Attrition'].value_counts().plot(kind='bar')"
      ],
      "metadata": {
        "id": "fSQH_sFiHEf8"
      },
      "execution_count": null,
      "outputs": []
    },
    {
      "cell_type": "code",
      "source": [
        "try_gp = df.groupby(['EnvironmentSatisfaction','JobSatisfaction'])"
      ],
      "metadata": {
        "id": "SVBBNbCtx4wF"
      },
      "execution_count": null,
      "outputs": []
    },
    {
      "cell_type": "code",
      "source": [
        "try_gp['Attrition'].value_counts(normalize = True)"
      ],
      "metadata": {
        "id": "pwqYA9o9yAHp"
      },
      "execution_count": null,
      "outputs": []
    },
    {
      "cell_type": "code",
      "source": [
        "try_gp['Attrition'].value_counts(normalize = True).plot(kind= 'bar',figsize=(15, 8))"
      ],
      "metadata": {
        "id": "zuZibvyizIPl"
      },
      "execution_count": null,
      "outputs": []
    },
    {
      "cell_type": "markdown",
      "source": [
        "Above graph shows how satisfacton scores affects the attrition chances (It's obvious that if satisfaction score is low then, employee will leave)"
      ],
      "metadata": {
        "id": "tzM3N5UCHVcW"
      }
    },
    {
      "cell_type": "code",
      "source": [
        "# Index(['Attrition', 'Age', 'BusinessTravel', 'DailyRate', 'Department',\n",
        "#        'DistanceFromHome', 'Education', 'EducationField',\n",
        "#        'EnvironmentSatisfaction', 'Gender', 'HourlyRate', 'JobInvolvement',\n",
        "#        'JobLevel', 'JobRole', 'JobSatisfaction', 'MaritalStatus',\n",
        "#        'MonthlyIncome', 'MonthlyRate', 'NumCompaniesWorked', 'OverTime',\n",
        "#        'PercentSalaryHike', 'PerformanceRating', 'RelationshipSatisfaction',\n",
        "#        'StockOptionLevel', 'TotalWorkingYears', 'TrainingTimesLastYear',\n",
        "#        'WorkLifeBalance', 'YearsAtCompany', 'YearsInCurrentRole',\n",
        "#        'YearsSinceLastPromotion', 'YearsWithCurrManager'],\n",
        "#       dtype='object')"
      ],
      "metadata": {
        "id": "4tbBObavsfiI"
      },
      "execution_count": null,
      "outputs": []
    },
    {
      "cell_type": "code",
      "source": [
        "gender_grp = df.groupby(['Gender'])"
      ],
      "metadata": {
        "id": "g-h_zquy0Kwl"
      },
      "execution_count": null,
      "outputs": []
    },
    {
      "cell_type": "code",
      "source": [
        "gender_grp['Attrition'].value_counts(normalize = True).plot(kind = 'bar')"
      ],
      "metadata": {
        "id": "a3P-ijr322Zl"
      },
      "execution_count": null,
      "outputs": []
    },
    {
      "cell_type": "code",
      "source": [
        "sns.barplot(x=\"PerformanceRating\", y=\"WorkLifeBalance\",\n",
        "             hue=\"Attrition\", \n",
        "             data=df)"
      ],
      "metadata": {
        "id": "q4zq0MdD44RV"
      },
      "execution_count": null,
      "outputs": []
    },
    {
      "cell_type": "code",
      "source": [
        "fig, ax = plt.subplots(3,3, figsize = (20,10))\n",
        "\n",
        "ax = np.ravel(ax)\n",
        "for i in range(len(categorical_cols)):\n",
        "    sns.countplot(data = df, x = categorical_cols[i], ax = ax[i], palette=\"rocket\", hue=\"Attrition\", order = df[categorical_cols[i]].value_counts().index)\n",
        "    ax[i].set_xticklabels(labels = df[categorical_cols[i]].unique(), rotation=45, ha='right')\n",
        "ax = np.reshape(ax, (3, 3))\n",
        "plt.tight_layout()"
      ],
      "metadata": {
        "id": "ZBLDTkPR6s16"
      },
      "execution_count": null,
      "outputs": []
    },
    {
      "cell_type": "code",
      "source": [
        ""
      ],
      "metadata": {
        "id": "UKskQeOUJVFE"
      },
      "execution_count": null,
      "outputs": []
    },
    {
      "cell_type": "code",
      "source": [
        "import plotly.express as px"
      ],
      "metadata": {
        "id": "iz7Ak5BULgQl"
      },
      "execution_count": null,
      "outputs": []
    },
    {
      "cell_type": "code",
      "source": [
        "age_att=df.groupby(['Age','Attrition']).apply(lambda x:x['DailyRate'].count()).reset_index(name='Counts')\n",
        "px.line(age_att,x='Age',y='Counts',color='Attrition',title='Agewise Counts of People in an Organization')"
      ],
      "metadata": {
        "id": "Mef2CmzjLZdN"
      },
      "execution_count": null,
      "outputs": []
    },
    {
      "cell_type": "code",
      "source": [
        "rate_att=df.groupby(['MonthlyIncome','Attrition']).apply(lambda x:x['MonthlyIncome'].count()).reset_index(name='Counts')\n",
        "rate_att['MonthlyIncome']=round(rate_att['MonthlyIncome'],-3)\n",
        "rate_att=rate_att.groupby(['MonthlyIncome','Attrition']).apply(lambda x:x['MonthlyIncome'].count()).reset_index(name='Counts')\n",
        "fig=px.line(rate_att,x='MonthlyIncome',y='Counts',color='Attrition',title='Monthly Income basis counts of People in an Organization')\n",
        "fig.show()"
      ],
      "metadata": {
        "id": "d7Mn9KDqL_iZ"
      },
      "execution_count": null,
      "outputs": []
    },
    {
      "cell_type": "markdown",
      "source": [
        "# Data Analysis Conclusions - \n"
      ],
      "metadata": {
        "id": "UoOw0lsAxxT2"
      }
    },
    {
      "cell_type": "markdown",
      "source": [
        ""
      ],
      "metadata": {
        "id": "0iX1YWNqx8m4"
      }
    },
    {
      "cell_type": "markdown",
      "source": [
        "# Machine Learning"
      ],
      "metadata": {
        "id": "vjIFNW_gKKGv"
      }
    },
    {
      "cell_type": "code",
      "source": [
        "from sklearn.model_selection import train_test_split\n",
        "from sklearn.preprocessing import StandardScaler\n",
        "\n",
        "from sklearn.linear_model import LogisticRegression\n",
        "from sklearn.neighbors import KNeighborsClassifier\n",
        "from sklearn.tree import DecisionTreeClassifier\n",
        "from sklearn.svm import LinearSVC, SVC\n",
        "from sklearn.ensemble import RandomForestClassifier"
      ],
      "metadata": {
        "id": "Q-JHpYn19Xcj"
      },
      "execution_count": null,
      "outputs": []
    },
    {
      "cell_type": "code",
      "source": [
        "data = pd.read_csv('/content/drive/MyDrive/HR_attrition/Data/hr_attrition')"
      ],
      "metadata": {
        "id": "pjH7F29T8sjL"
      },
      "execution_count": null,
      "outputs": []
    },
    {
      "cell_type": "markdown",
      "source": [
        "## Preprocessing"
      ],
      "metadata": {
        "id": "blxu8IlB8mH_"
      }
    },
    {
      "cell_type": "code",
      "source": [
        "def onehot_encode(df, column):\n",
        "    df = df.copy()\n",
        "    dummies = pd.get_dummies(df[column], prefix=column)\n",
        "    df = pd.concat([df, dummies], axis=1)\n",
        "    df = df.drop(column, axis=1)\n",
        "    return df"
      ],
      "metadata": {
        "id": "f45Rbc13KM-V"
      },
      "execution_count": null,
      "outputs": []
    },
    {
      "cell_type": "code",
      "source": [
        "def preprocess_inputs(df):\n",
        "    df = df.copy()\n",
        "    \n",
        "    # Drop single-value columns and id columns\n",
        "    df = df.drop(['EmployeeCount', 'EmployeeNumber', 'Over18', 'StandardHours'], axis=1)\n",
        "    \n",
        "    # Binary-encode binary columns\n",
        "    df['Gender'] = df['Gender'].replace({'Female': 0, 'Male': 1})\n",
        "    df['OverTime'] = df['OverTime'].replace({'No': 0, 'Yes': 1})\n",
        "    \n",
        "    # Ordinal-encode the BusinessTravel column\n",
        "    df['BusinessTravel'] = df['BusinessTravel'].replace({'Non-Travel': 0, 'Travel_Rarely': 1, 'Travel_Frequently': 2})\n",
        "    \n",
        "    # One-hot encoding\n",
        "    for column in ['Department', 'EducationField', 'JobRole', 'MaritalStatus']:\n",
        "        df = onehot_encode(df, column=column)\n",
        "    \n",
        "    # Split df into X and y\n",
        "    y = df['Attrition']\n",
        "    X = df.drop('Attrition', axis=1)\n",
        "    \n",
        "    # Train-test split\n",
        "    X_train, X_test, y_train, y_test = train_test_split(X, y, train_size=0.7, shuffle=True, random_state=1)\n",
        "    \n",
        "    # Scale X\n",
        "    scaler = StandardScaler()\n",
        "    scaler.fit(X_train)\n",
        "    X_train = pd.DataFrame(scaler.transform(X_train), index=X_train.index, columns=X_train.columns)\n",
        "    X_test = pd.DataFrame(scaler.transform(X_test), index=X_test.index, columns=X_test.columns)\n",
        "    \n",
        "    return X_train, X_test, y_train, y_test"
      ],
      "metadata": {
        "id": "YMfOV-BZ9IQ5"
      },
      "execution_count": null,
      "outputs": []
    },
    {
      "cell_type": "code",
      "source": [
        "X_train, X_test, y_train, y_test = preprocess_inputs(data)"
      ],
      "metadata": {
        "id": "pYvobDst9P_C"
      },
      "execution_count": null,
      "outputs": []
    },
    {
      "cell_type": "code",
      "source": [
        "models = {\n",
        "    \"                   Logistic Regression\": LogisticRegression(),\n",
        "    \"                   K-Nearest Neighbors\": KNeighborsClassifier(),\n",
        "    \"                         Decision Tree\": DecisionTreeClassifier(),\n",
        "    \"Support Vector Machine (Linear Kernel)\": LinearSVC(),\n",
        "    \"   Support Vector Machine (RBF Kernel)\": SVC(),\n",
        "    \"                         Random Forest\": RandomForestClassifier(),\n",
        "}\n",
        "\n",
        "for name, model in models.items():\n",
        "    model.fit(X_train, y_train)\n",
        "    print(name + \" trained.\")"
      ],
      "metadata": {
        "id": "LsuH1Out9T0X"
      },
      "execution_count": null,
      "outputs": []
    },
    {
      "cell_type": "code",
      "source": [
        "for name, model in models.items():\n",
        "    print(name + \": {:.2f}%\".format(model.score(X_test, y_test) * 100))"
      ],
      "metadata": {
        "id": "3X9NpEWW9l76"
      },
      "execution_count": null,
      "outputs": []
    },
    {
      "cell_type": "markdown",
      "source": [
        "Logistic Regression: 88.10%\n",
        "\n",
        "K-Nearest Neighbors: 85.37%\n",
        "\n",
        "Decision Tree: 92.74%\n",
        "\n",
        "Support Vector Machine (Linear Kernel): 87.98%\n",
        "\n",
        "Support Vector Machine (RBF Kernel): 89.46%\n",
        "\n",
        "Random Forest: 94.78%"
      ],
      "metadata": {
        "id": "3MqBe9thfaDQ"
      }
    },
    {
      "cell_type": "markdown",
      "source": [
        "CONCLUSION -\n",
        "\n",
        "I have performed nd compared Logistic Regression K-Nearest Neighbors, Decision Tree,Support Vector Machine(Linear Kernel),Support Vector Machine (RBF Kernel),Random Forest.\n",
        "\n",
        "After performing this classification model I have got highest accuracy of 94.78 % with random forest model."
      ],
      "metadata": {
        "id": "ruTYN-yWfdF5"
      }
    },
    {
      "cell_type": "code",
      "source": [
        ""
      ],
      "metadata": {
        "id": "Ih5HpYVq9rld"
      },
      "execution_count": null,
      "outputs": []
    }
  ]
}